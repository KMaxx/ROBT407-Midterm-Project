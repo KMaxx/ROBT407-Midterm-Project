{
 "cells": [
  {
   "cell_type": "markdown",
   "metadata": {},
   "source": [
    "Midterm Project"
   ]
  },
  {
   "cell_type": "markdown",
   "metadata": {},
   "source": [
    "Importing libraries"
   ]
  },
  {
   "cell_type": "code",
   "execution_count": 17,
   "metadata": {},
   "outputs": [],
   "source": [
    "import numpy as np\n",
    "import random\n",
    "import matplotlib.pyplot as plt\n",
    "from numpy import random"
   ]
  },
  {
   "cell_type": "markdown",
   "metadata": {},
   "source": [
    "Function for output points of target function"
   ]
  },
  {
   "cell_type": "code",
   "execution_count": 18,
   "metadata": {},
   "outputs": [],
   "source": [
    "def my_output(newX):\n",
    "    k = -5.7\n",
    "    b = 3.2\n",
    "    out = []\n",
    "    for i in range(newX.shape[0]):\n",
    "        if newX[i,:1]*k + b - newX[i, 1:] > 0:\n",
    "            out.append(1)\n",
    "        else:\n",
    "            out.append(-1)\n",
    "    return out"
   ]
  },
  {
   "cell_type": "markdown",
   "metadata": {},
   "source": [
    "Linear Regression Implementation"
   ]
  },
  {
   "cell_type": "code",
   "execution_count": 19,
   "metadata": {},
   "outputs": [],
   "source": [
    "def LinearReg(input, output):\n",
    "    input = np.insert(input, 0, 1, axis=1)\n",
    "    x = np.linalg.inv(np.transpose(input).dot(input))\n",
    "    xPseudo = x.dot(np.transpose(input))\n",
    "    w = xPseudo.dot(output)\n",
    "    return w"
   ]
  },
  {
   "cell_type": "markdown",
   "metadata": {},
   "source": [
    "Generating X and y of size 1000 as directed by Ex 3.2"
   ]
  },
  {
   "cell_type": "code",
   "execution_count": 20,
   "metadata": {},
   "outputs": [],
   "source": [
    "input = np.random.rand(1000, 2)\n",
    "output = my_output(input)\n",
    "output = np.transpose(output)\n",
    "randomOut = np.random.randint(1000, size = 100)\n",
    "for i in range(randomOut.shape[0]):\n",
    "    if output[randomOut[i]] == 1:\n",
    "        output[randomOut[i]] = -1\n",
    "    else:\n",
    "        output[randomOut[i]] = 1\n"
   ]
  },
  {
   "cell_type": "markdown",
   "metadata": {},
   "source": [
    "Generating X and y of size 100 as directed by Ex 3.2"
   ]
  },
  {
   "cell_type": "code",
   "execution_count": 21,
   "metadata": {},
   "outputs": [],
   "source": [
    "input = np.random.rand(100, 2)\n",
    "output = my_output(input)\n",
    "output = np.transpose(output)\n",
    "randomOut = np.random.randint(100, size = 10)\n",
    "for i in range(randomOut.shape[0]):\n",
    "    if output[randomOut[i]] == 1:\n",
    "        output[randomOut[i]] = -1\n",
    "    else:\n",
    "        output[randomOut[i]] = 1\n"
   ]
  },
  {
   "cell_type": "markdown",
   "metadata": {},
   "source": [
    "Implementation of Pocket Algorithm"
   ]
  },
  {
   "cell_type": "code",
   "execution_count": 22,
   "metadata": {},
   "outputs": [],
   "source": [
    "class PerceptronForPocket:\n",
    "        \n",
    "    def predict(self, x):\n",
    "        if np.dot(self.w[1:], x) + self.w[0] < 0:\n",
    "            return 0\n",
    "        else:\n",
    "            return 1\n",
    "    def predictW(self,inp, ww):\n",
    "        if np.dot(ww[1:], inp) + ww[0] < 0:\n",
    "            return 0\n",
    "        else:\n",
    "            return 1         \n",
    "    def fit(self, X, y):\n",
    "        d  = X.shape[1]\n",
    "        self.w = np.zeros(d + 1)\n",
    "        self.ww = self.w;\n",
    "        \n",
    "        i = 0\n",
    "        error_count = 1\n",
    "        while error_count > 0:\n",
    "            i += 1\n",
    "            if i > 1000:\n",
    "                break\n",
    "                error_count = 0\n",
    "            \n",
    "            for j in range(X.shape[0]):\n",
    "                ypred = self.predict(X[j])\n",
    "                ytrue = y[j]\n",
    "\n",
    "                if ypred == 0:\n",
    "                    ypred = -1\n",
    "                if ytrue == 0:\n",
    "                    ytrue = -1\n",
    "\n",
    "                if ypred != ytrue:\n",
    "\n",
    "                    error_count += 1\n",
    "                    \n",
    "                    self.w[1:] += ytrue * X[j]\n",
    "                    self.w[0] += ytrue\n",
    "                    self.ww = np.c_[self.ww, self.w]\n",
    "        return np.transpose(self.ww)\n",
    "    \n",
    "    def pocket(self,inp, out):\n",
    "        ww = self.fit(inp, out)\n",
    "        wW = ww[0]\n",
    "        error = 0\n",
    "        Ein1 = []\n",
    "        Ein2 = []\n",
    "        for q in range(inp.shape[0]):\n",
    "            ypred = self.predictW(inp[q], wW)\n",
    "            ytrue = out[q]\n",
    "\n",
    "            if ypred == 0:\n",
    "                ypred = -1\n",
    "            if ytrue == 0:\n",
    "                ytrue = -1\n",
    "\n",
    "            if ypred != ytrue:\n",
    "                error += 1\n",
    "        error_initial = error\n",
    "        if ww.shape[0] < 1000:\n",
    "            size = ww.shape[0]\n",
    "        else:\n",
    "            size = 1000\n",
    "        for j in range(size):\n",
    "            error = 0\n",
    "            for k in range(inp.shape[0]):\n",
    "                ypred = self.predictW(inp[k], ww[j])\n",
    "                ytrue = out[k]\n",
    "\n",
    "                if ypred == 0:\n",
    "                    ypred = -1\n",
    "                if ytrue == 0:\n",
    "                    ytrue = -1\n",
    "\n",
    "                if ypred != ytrue:\n",
    "                    error += 1\n",
    "            if error < error_initial:\n",
    "                wW = ww[j]\n",
    "                error_initial = error\n",
    "            Ein1.append(error)\n",
    "            Ein2.append(error_initial)\n",
    "        return (wW)"
   ]
  },
  {
   "cell_type": "markdown",
   "metadata": {},
   "source": [
    "Plotting using Pocket algorithm (yellow line) and\n",
    "using Linear Regression(green line)"
   ]
  },
  {
   "cell_type": "code",
   "execution_count": 23,
   "metadata": {},
   "outputs": [
    {
     "data": {
      "text/plain": [
       "Text(0,0.5,'x2')"
      ]
     },
     "execution_count": 23,
     "metadata": {},
     "output_type": "execute_result"
    },
    {
     "data": {
      "image/png": "[encoded data removed]",
      "text/plain": [
       "<Figure size 432x288 with 1 Axes>"
      ]
     },
     "metadata": {},
     "output_type": "display_data"
    }
   ],
   "source": [
    "w = LinearReg(input, output)\n",
    "p = PerceptronForPocket()\n",
    "wPocket = p.pocket(input, output)\n",
    "yPocket = np.linspace(-wPocket[0]/wPocket[2], 0, 3)\n",
    "xPocket = np.linspace(0, -wPocket[0]/wPocket[1],3)\n",
    "plt.plot(xPocket,yPocket, 'g')\n",
    "\n",
    "yRegression = np.linspace(-w[0]/w[2], 0, 3)\n",
    "xRegression = np.linspace(0, -w[0]/w[1],3)\n",
    "plt.plot(xRegression,yRegression, 'y')\n",
    "\n",
    "c0 = output == -1\n",
    "c1 = output == 1\n",
    "\n",
    "plt.plot(input[:,0][c0], input[:,1][c0], 'o', mec='r', mfc='none')\n",
    "plt.plot(input[:,0][c1], input[:,1][c1], 'o', mec='b', mfc='none')\n",
    "plt.xlabel('x1')\n",
    "plt.ylabel('x2')"
   ]
  },
  {
   "cell_type": "markdown",
   "metadata": {},
   "source": [
    "Function for identifying Etest (number of errors)"
   ]
  },
  {
   "cell_type": "code",
   "execution_count": 24,
   "metadata": {},
   "outputs": [],
   "source": [
    "def Etest(input, output, w):\n",
    "    error = 0\n",
    "    lineSigns = np.sign(np.dot(input, w[1:]) + w[0])\n",
    "    for i in range(input.shape[0]):\n",
    "        if  lineSigns[i] != output[i]:\n",
    "            error+=1\n",
    "    return error"
   ]
  },
  {
   "cell_type": "markdown",
   "metadata": {},
   "source": [
    "Printing number of errors made by each algorithm"
   ]
  },
  {
   "cell_type": "code",
   "execution_count": 25,
   "metadata": {},
   "outputs": [
    {
     "name": "stdout",
     "output_type": "stream",
     "text": [
      "Number of errors made by pocket algorithm: 7\n",
      "Number of errors made by linear regression algorithm: 8\n"
     ]
    }
   ],
   "source": [
    "ERegression = Etest(input, output, w)\n",
    "EPocket = Etest(input, output, wPocket)\n",
    "print(\"Number of errors made by pocket algorithm:\",\n",
    "      EPocket)\n",
    "print(\"Number of errors made by linear regression algorithm:\", \n",
    "      ERegression)\n"
   ]
  },
  {
   "cell_type": "markdown",
   "metadata": {},
   "source": [
    "Reapeating the experiment 100 times"
   ]
  },
  {
   "cell_type": "code",
   "execution_count": 28,
   "metadata": {},
   "outputs": [],
   "source": [
    "wRegArray = []\n",
    "wPocketArray = []\n",
    "p = PerceptronForPocket()\n",
    "for i in range(100):\n",
    "    input = np.random.rand(100, 2)\n",
    "    output = my_output(input)\n",
    "    output = np.transpose(output)\n",
    "    randomOut = np.random.randint(100, size = 10)\n",
    "    for j in range(randomOut.shape[0]):\n",
    "        if output[randomOut[j]] == 1:\n",
    "            output[randomOut[j]] = -1\n",
    "        else:\n",
    "            output[randomOut[j]] = 1\n",
    "    wRegArray.append(LinearReg(input, output))\n",
    "    wPocketArray.append(p.pocket(input, output))"
   ]
  },
  {
   "cell_type": "markdown",
   "metadata": {},
   "source": [
    "Generating Errors arays"
   ]
  },
  {
   "cell_type": "code",
   "execution_count": 29,
   "metadata": {},
   "outputs": [],
   "source": [
    "ERegArray = []\n",
    "EPocketArray = []\n",
    "for i in range(100):\n",
    "    ERegArray.append(Etest(input, output, wRegArray[i]))\n",
    "    EPocketArray.append(Etest(input, output, wPocketArray[i]))"
   ]
  },
  {
   "cell_type": "markdown",
   "metadata": {},
   "source": [
    "Plot of Eregression(red) and Epocket()"
   ]
  },
  {
   "cell_type": "code",
   "execution_count": 30,
   "metadata": {},
   "outputs": [
    {
     "data": {
      "text/plain": [
       "Text(0,0.5,'E')"
      ]
     },
     "execution_count": 30,
     "metadata": {},
     "output_type": "execute_result"
    },
    {
     "data": {
      "image/png": "[encoded data removed]",
      "text/plain": [
       "<Figure size 432x288 with 1 Axes>"
      ]
     },
     "metadata": {},
     "output_type": "display_data"
    }
   ],
   "source": [
    "t = np.arange(0,100)\n",
    "plt.plot(t, ERegArray, 'r')\n",
    "plt.plot(t, EPocketArray, 'b')\n",
    "plt.xlabel('t')\n",
    "plt.ylabel('E')"
   ]
  },
  {
   "cell_type": "code",
   "execution_count": 31,
   "metadata": {},
   "outputs": [
    {
     "name": "stdout",
     "output_type": "stream",
     "text": [
      "Mean of Eregression is: 13.17\n",
      "Mean of Epocket is: 12.31\n"
     ]
    }
   ],
   "source": [
    "ERegMean = np.mean(ERegArray)\n",
    "EPocketMean = np.mean(EPocketArray)\n",
    "print('Mean of Eregression is:', ERegMean)\n",
    "print('Mean of Epocket is:', EPocketMean)"
   ]
  },
  {
   "cell_type": "markdown",
   "metadata": {},
   "source": [
    "According to the graph and the mean values of errors, it can be concluded that the pocket algorithm is little bit better in this classification problem, however, linear regression algorithm is much faster and not much worse than pocket algorithm."
   ]
  },
  {
   "cell_type": "markdown",
   "metadata": {},
   "source": [
    "Task 2"
   ]
  },
  {
   "cell_type": "markdown",
   "metadata": {},
   "source": [
    "Logistic regression implementation"
   ]
  },
  {
   "cell_type": "code",
   "execution_count": 32,
   "metadata": {},
   "outputs": [],
   "source": [
    "import seaborn as sns\n",
    "from sklearn import datasets\n",
    "from sklearn.cross_validation import train_test_split"
   ]
  },
  {
   "cell_type": "code",
   "execution_count": 33,
   "metadata": {},
   "outputs": [],
   "source": [
    "iris = datasets.load_iris()\n",
    "x_iris = iris.data[:-50,:]\n",
    "y_iris = iris.target[:-50]"
   ]
  },
  {
   "cell_type": "code",
   "execution_count": 34,
   "metadata": {},
   "outputs": [],
   "source": [
    "for i in range(y_iris.shape[0]):\n",
    "    if(y_iris[i] == 0):\n",
    "        y_iris[i] = -1;"
   ]
  },
  {
   "cell_type": "markdown",
   "metadata": {},
   "source": [
    "Logistic regression algorithm implementation"
   ]
  },
  {
   "cell_type": "code",
   "execution_count": 35,
   "metadata": {},
   "outputs": [],
   "source": [
    "def Logistic(input, output, nu, T):\n",
    "    input = np.insert(input, 0, 1, axis=1)\n",
    "    w = np.zeros(shape = (T, input.shape[1]))\n",
    "    gt = np.zeros(shape = (T, input.shape[0]))\n",
    "    for t in range(1, T):\n",
    "        n = np.random.randint(1, input.shape[0])\n",
    "        w[t] = w[t-1] + nu*(2*output[n]*input[n])/(1+np.exp(output[n]*(2*np.transpose(w[t-1])*input[n])))\n",
    "        for j in range(input.shape[0]):\n",
    "            gt[t][j] = np.sign(np.dot(w[t], input[j]))\n",
    "    return gt"
   ]
  },
  {
   "cell_type": "markdown",
   "metadata": {},
   "source": [
    "Generating gt array"
   ]
  },
  {
   "cell_type": "code",
   "execution_count": 36,
   "metadata": {},
   "outputs": [],
   "source": [
    "gt = Logistic(x_iris, y_iris, 0.001, 2000)"
   ]
  },
  {
   "cell_type": "markdown",
   "metadata": {},
   "source": [
    "Dividing data into testing (20%) and training (80%)"
   ]
  },
  {
   "cell_type": "code",
   "execution_count": 37,
   "metadata": {},
   "outputs": [],
   "source": [
    "Xtrain, Xtest, ytrain, ytest = train_test_split(x_iris, y_iris, test_size=0.2, random_state=1)"
   ]
  },
  {
   "cell_type": "code",
   "execution_count": 38,
   "metadata": {},
   "outputs": [
    {
     "data": {
      "text/plain": [
       "(80, 4)"
      ]
     },
     "execution_count": 38,
     "metadata": {},
     "output_type": "execute_result"
    }
   ],
   "source": [
    "Xtrain.shape"
   ]
  },
  {
   "cell_type": "code",
   "execution_count": 39,
   "metadata": {},
   "outputs": [],
   "source": [
    "gt1 = Logistic(Xtrain, ytrain, 0.001, 2000)\n",
    "gt2 = Logistic(Xtest, ytest, 0.001, 2000)"
   ]
  },
  {
   "cell_type": "markdown",
   "metadata": {},
   "source": [
    "Function for defining errors"
   ]
  },
  {
   "cell_type": "code",
   "execution_count": 40,
   "metadata": {},
   "outputs": [],
   "source": [
    "def Et(gt, output):\n",
    "    errors = []\n",
    "    for i in range(1, gt.shape[0]):\n",
    "        error = 0\n",
    "        for j in range(gt.shape[1]):\n",
    "            if(gt[i][j] !=output[j]):\n",
    "                error+=1\n",
    "        errors.append(error);\n",
    "    return errors"
   ]
  },
  {
   "cell_type": "code",
   "execution_count": 41,
   "metadata": {},
   "outputs": [],
   "source": [
    "err1 = Et(gt1, ytrain)\n",
    "err2 = Et(gt2, ytest)"
   ]
  },
  {
   "cell_type": "code",
   "execution_count": 42,
   "metadata": {},
   "outputs": [
    {
     "data": {
      "text/plain": [
       "1999"
      ]
     },
     "execution_count": 42,
     "metadata": {},
     "output_type": "execute_result"
    }
   ],
   "source": [
    "len(err1)"
   ]
  },
  {
   "cell_type": "code",
   "execution_count": 43,
   "metadata": {},
   "outputs": [
    {
     "data": {
      "text/plain": [
       "(1999,)"
      ]
     },
     "execution_count": 43,
     "metadata": {},
     "output_type": "execute_result"
    }
   ],
   "source": [
    "np.shape(err1)"
   ]
  },
  {
   "cell_type": "code",
   "execution_count": 44,
   "metadata": {},
   "outputs": [],
   "source": [
    "t = np.arange(1, 2000);"
   ]
  },
  {
   "cell_type": "code",
   "execution_count": 45,
   "metadata": {},
   "outputs": [
    {
     "data": {
      "text/plain": [
       "Text(0,0.5,'E')"
      ]
     },
     "execution_count": 45,
     "metadata": {},
     "output_type": "execute_result"
    },
    {
     "data": {
      "image/png": "[encoded data removed]",
      "text/plain": [
       "<Figure size 432x288 with 1 Axes>"
      ]
     },
     "metadata": {},
     "output_type": "display_data"
    }
   ],
   "source": [
    "plt.plot(t, err1, 'b')\n",
    "plt.plot(t, err2, 'r')\n",
    "plt.xlabel('t')\n",
    "plt.ylabel('E')"
   ]
  },
  {
   "cell_type": "markdown",
   "metadata": {},
   "source": []
  },
  {
   "cell_type": "markdown",
   "metadata": {},
   "source": [
    "Task 3"
   ]
  },
  {
   "cell_type": "markdown",
   "metadata": {},
   "source": [
    "SVM for digiits"
   ]
  },
  {
   "cell_type": "code",
   "execution_count": 46,
   "metadata": {},
   "outputs": [],
   "source": [
    "from sklearn.model_selection import GridSearchCV\n",
    "from sklearn import datasets\n",
    "from sklearn.cross_validation import cross_val_predict\n",
    "from sklearn.svm import SVC\n",
    "from sklearn.model_selection import learning_curve"
   ]
  },
  {
   "cell_type": "markdown",
   "metadata": {},
   "source": [
    "Linear SVM model for digit recognition"
   ]
  },
  {
   "cell_type": "code",
   "execution_count": 47,
   "metadata": {},
   "outputs": [
    {
     "name": "stdout",
     "output_type": "stream",
     "text": [
      "0.9610461880912632\n",
      "{'C': 1, 'kernel': 'linear'}\n"
     ]
    }
   ],
   "source": [
    "digits = datasets.load_digits()\n",
    "x = digits.data\n",
    "y = digits.target\n",
    "model = SVC()\n",
    "tuned_param = [{'kernel': ['linear'], 'C': [1,10,100,1000]}]\n",
    "clf = GridSearchCV(model, tuned_param, cv=10)\n",
    "clf.fit(x, y)\n",
    "print(clf.best_score_)\n",
    "print(clf.best_params_)"
   ]
  },
  {
   "cell_type": "markdown",
   "metadata": {},
   "source": [
    "Choosing the best model and plotting training(red curve) vs valifdation curve(blue curve) for Linear SVM"
   ]
  },
  {
   "cell_type": "code",
   "execution_count": 48,
   "metadata": {},
   "outputs": [
    {
     "data": {
      "text/plain": [
       "[<matplotlib.lines.Line2D at 0x2af1285c0b8>]"
      ]
     },
     "execution_count": 48,
     "metadata": {},
     "output_type": "execute_result"
    },
    {
     "data": {
      "image/png": "[encoded data removed]",
      "text/plain": [
       "<Figure size 432x288 with 1 Axes>"
      ]
     },
     "metadata": {},
     "output_type": "display_data"
    }
   ],
   "source": [
    "best = clf.best_estimator_\n",
    "train_sizes, train_score, valid_scores = learning_curve(best, x, y, train_sizes=np.linspace(0.3, 1, 25), cv=10)\n",
    "plt.plot(train_sizes, np.mean(train_score, 1), 'r')\n",
    "plt.plot(train_sizes, np.mean(valid_scores, 1), 'b')"
   ]
  },
  {
   "cell_type": "markdown",
   "metadata": {},
   "source": [
    "Polynomial SVM model for digit recognition"
   ]
  },
  {
   "cell_type": "code",
   "execution_count": 684,
   "metadata": {},
   "outputs": [
    {
     "name": "stdout",
     "output_type": "stream",
     "text": [
      "0.9788536449638287 {'C': 1, 'degree': 3, 'gamma': 0.01, 'kernel': 'poly'}\n"
     ]
    }
   ],
   "source": [
    "model = SVC()\n",
    "params = [{'kernel': ['poly'], 'degree': [3,4,5,6,7], 'C': [1,10,100,1000], 'gamma': [0.01, 0.001, 0.0001]}]\n",
    "clf = GridSearchCV(model, params, cv=10)\n",
    "clf.fit(x,y)\n",
    "print(clf.best_score_, clf.best_params_)"
   ]
  },
  {
   "cell_type": "markdown",
   "metadata": {},
   "source": [
    "Choosing the best model and plotting training(red curve) vs valifdation curve(blue curve) for polynomial\n",
    "kernel SVM"
   ]
  },
  {
   "cell_type": "code",
   "execution_count": 685,
   "metadata": {},
   "outputs": [
    {
     "data": {
      "text/plain": [
       "[<matplotlib.lines.Line2D at 0x27873fb7cf8>]"
      ]
     },
     "execution_count": 685,
     "metadata": {},
     "output_type": "execute_result"
    },
    {
     "data": {
      "image/png": "[encoded data removed]",
      "text/plain": [
       "<Figure size 432x288 with 1 Axes>"
      ]
     },
     "metadata": {},
     "output_type": "display_data"
    }
   ],
   "source": [
    "best = clf.best_estimator_\n",
    "train_sizes, train_score, valid_scores = learning_curve(best, x, y, train_sizes=np.linspace(0.3, 1, 25), cv=10)\n",
    "plt.plot(train_sizes, np.mean(train_score,1), 'r')\n",
    "plt.plot(train_sizes, np.mean(valid_scores,1), 'b')\n"
   ]
  },
  {
   "cell_type": "markdown",
   "metadata": {},
   "source": [
    "Logistic Regression model for digit recognition"
   ]
  },
  {
   "cell_type": "code",
   "execution_count": 686,
   "metadata": {},
   "outputs": [
    {
     "name": "stdout",
     "output_type": "stream",
     "text": [
      "0.9309961046188091 {'C': 1, 'penalty': 'l2'}\n"
     ]
    }
   ],
   "source": [
    "model = LogisticRegression()\n",
    "params = [{'penalty': ['l1', 'l2'], 'C':[1,2,3,4,5]}]\n",
    "clf = GridSearchCV(model, params, cv=10 )\n",
    "clf.fit(x,y)\n",
    "print(clf.best_score_, clf.best_params_)"
   ]
  },
  {
   "cell_type": "markdown",
   "metadata": {},
   "source": [
    "Choosing the best model and plotting training(red curve) vs valifdation curve(blue curve) for Logistic Regression"
   ]
  },
  {
   "cell_type": "code",
   "execution_count": 687,
   "metadata": {},
   "outputs": [
    {
     "data": {
      "text/plain": [
       "[<matplotlib.lines.Line2D at 0x27873dd9b38>]"
      ]
     },
     "execution_count": 687,
     "metadata": {},
     "output_type": "execute_result"
    },
    {
     "data": {
      "image/png": "[encoded data removed]",
      "text/plain": [
       "<Figure size 432x288 with 1 Axes>"
      ]
     },
     "metadata": {},
     "output_type": "display_data"
    }
   ],
   "source": [
    "best = clf.best_estimator_\n",
    "train_sizes, train_score, valid_scores = learning_curve(best, x, y, train_sizes=np.linspace(0.3, 1, 25), cv=10)\n",
    "plt.plot(train_sizes, np.mean(train_score, 1), 'r')\n",
    "plt.plot(train_sizes, np.mean(valid_scores, 1), 'b')\n"
   ]
  },
  {
   "cell_type": "markdown",
   "metadata": {},
   "source": [
    "Linear Regression model for digit recognition"
   ]
  },
  {
   "cell_type": "code",
   "execution_count": 689,
   "metadata": {},
   "outputs": [
    {
     "name": "stdout",
     "output_type": "stream",
     "text": [
      "0.534550520436702 {'fit_intercept': True}\n"
     ]
    }
   ],
   "source": [
    "model = LinearRegression()\n",
    "params = [{'fit_intercept': [True, False]}]\n",
    "clf = GridSearchCV(model, params, cv=10 )\n",
    "clf.fit(x,y)\n",
    "print(clf.best_score_, clf.best_params_)"
   ]
  },
  {
   "cell_type": "markdown",
   "metadata": {},
   "source": [
    "Choosing the best model and plotting training(red curve) vs valifdation curve(blue curve) for Linear Regression"
   ]
  },
  {
   "cell_type": "code",
   "execution_count": 711,
   "metadata": {},
   "outputs": [
    {
     "data": {
      "text/plain": [
       "(0, 1)"
      ]
     },
     "execution_count": 711,
     "metadata": {},
     "output_type": "execute_result"
    },
    {
     "data": {
      "image/png": "[encoded data removed]",
      "text/plain": [
       "<Figure size 432x288 with 1 Axes>"
      ]
     },
     "metadata": {},
     "output_type": "display_data"
    }
   ],
   "source": [
    "best = clf.best_estimator_\n",
    "train_sizes, train_score, valid_scores = learning_curve(best, x, y, train_sizes=np.linspace(0.3, 1, 25), cv=10)\n",
    "plt.plot(train_sizes, np.mean(train_score, 1), 'r')\n",
    "plt.plot(train_sizes, np.mean(valid_scores, 1), 'b')\n",
    "plt.ylim(0,1)"
   ]
  },
  {
   "cell_type": "markdown",
   "metadata": {},
   "source": [
    "Variance, bias and noize should be low to prevent overfitting and tradeoff. It means that error, moize and sensitivity should be low. Simple algorithms(functions) cannot always properly fit the data. Therefore, these parameters grows for not linearly distributed data. To decrease the values of above parameters, it is used more difficult algorithms(such as SVM) and different(tuned) hyperparameters. Furthermore, it was used GridSearchCV to mix the hyperparameters for finding the best fit and accuracy.\n",
    "Polynomial kernel SVM showed the highest accuracy score among used model with accuracy of almost 98%"
   ]
  },
  {
   "cell_type": "markdown",
   "metadata": {},
   "source": [
    "Linear Regression tenfold cross validation"
   ]
  },
  {
   "cell_type": "code",
   "execution_count": 49,
   "metadata": {},
   "outputs": [],
   "source": [
    "def LinearRegr(input, output):\n",
    "    input = np.insert(input, 0, 1, axis=1)\n",
    "    if np.linalg.det(np.transpose(input).dot(input)) != 0:\n",
    "        x = np.linalg.inv(np.transpose(input).dot(input))\n",
    "    else: \n",
    "        x = np.linalg.pinv(np.transpose(input).dot(input))\n",
    "    xPseudo = x.dot(np.transpose(input))\n",
    "    w = xPseudo.dot(output)\n",
    "    return w"
   ]
  },
  {
   "cell_type": "code",
   "execution_count": 50,
   "metadata": {},
   "outputs": [],
   "source": [
    "def Etest(input, output, w):\n",
    "    error = 0\n",
    "    lineSigns = np.sign(np.dot(input, w[1:]) + w[0])\n",
    "    for i in range(input.shape[0]):\n",
    "        if  lineSigns[i] != output[i]:\n",
    "            error+=1\n",
    "    return error"
   ]
  },
  {
   "cell_type": "code",
   "execution_count": 51,
   "metadata": {},
   "outputs": [],
   "source": [
    "def E_value(input_train, output_train, input_test, output_test):\n",
    "    error_value = np.zeros(10)\n",
    "\n",
    "    for i in range(10):\n",
    "        in_output_train = np.zeros(output_train.shape[0])\n",
    "        in_output_test = np.zeros(output_test.shape[0])\n",
    "        for j in range(in_output_train.shape[0]):\n",
    "            if output_train[j] == i:\n",
    "                in_output_train[j] = 1\n",
    "            else:\n",
    "                in_output_train[j] = -1\n",
    "        for t in range(in_output_test.shape[0]):\n",
    "            if output_test[t] == i:\n",
    "                in_output_test[t] = 1\n",
    "            else:\n",
    "                in_output_test[t] = -1        \n",
    "        model = LinearRegr(input_train, in_output_train)\n",
    "        error_value[i] = Etest(input_test, in_output_test, model)\n",
    "        \n",
    "    return error_value\n",
    "    "
   ]
  },
  {
   "cell_type": "code",
   "execution_count": 52,
   "metadata": {},
   "outputs": [],
   "source": [
    "def average_error(n):\n",
    "    e_value = np.zeros(10);\n",
    "    m = int(digits.data.shape[0]/n)\n",
    "    for l in range(n):\n",
    "        s = l*m\n",
    "        e_value = e_value + E_value(np.concatenate((digits.data[0:s],digits.data[s+m:]), axis = 0), np.concatenate((digits.target[0:s],digits.target[s+m:]),axis = 0), digits.data[s:s+m], digits.target[s:s+m])/n\n",
    "    return e_value\n",
    "    "
   ]
  },
  {
   "cell_type": "code",
   "execution_count": 61,
   "metadata": {},
   "outputs": [
    {
     "data": {
      "text/plain": [
       "(9.919999999999998, 4.64, 2.045)"
      ]
     },
     "execution_count": 61,
     "metadata": {},
     "output_type": "execute_result"
    }
   ],
   "source": [
    "np.mean(average_error(5)), np.mean(average_error(10)), np.mean(average_error(20))"
   ]
  },
  {
   "cell_type": "markdown",
   "metadata": {},
   "source": [
    "20 fold shows the best result"
   ]
  },
  {
   "cell_type": "code",
   "execution_count": 1,
   "metadata": {},
   "outputs": [],
   "source": [
    "def LogisticRegr(input, output, nu, T):\n",
    "    input = np.insert(input, 0, 1, axis=1)\n",
    "    w = np.zeros(shape = (T, input.shape[1]))\n",
    "    gt = np.zeros(shape = (T, input.shape[0]))\n",
    "    for t in range(1, T):\n",
    "        n = np.random.randint(1, input.shape[0])\n",
    "        w[t] = w[t-1] + nu*(2*output[n]*input[n])/(1+np.exp(output[n]*(2*np.transpose(w[t-1])*input[n])))\n",
    "        for j in range(input.shape[0]):\n",
    "            gt[t][j] = np.sign(np.dot(w[t], input[j]))\n",
    "    return w[T-1]"
   ]
  },
  {
   "cell_type": "code",
   "execution_count": 2,
   "metadata": {},
   "outputs": [],
   "source": [
    "def E_value_log(input_train, output_train, input_test, output_test):\n",
    "    error_value = np.zeros(10)\n",
    "\n",
    "    for i in range(10):\n",
    "        in_output_train = np.zeros(output_train.shape[0])\n",
    "        in_output_test = np.zeros(output_test.shape[0])\n",
    "        for j in range(in_output_train.shape[0]):\n",
    "            if output_train[j] == i:\n",
    "                in_output_train[j] = 1\n",
    "            else:\n",
    "                in_output_train[j] = -1\n",
    "        for t in range(in_output_test.shape[0]):\n",
    "            if output_test[t] == i:\n",
    "                in_output_test[t] = 1\n",
    "            else:\n",
    "                in_output_test[t] = -1        \n",
    "        model = LogisticRegr(input_train, in_output_train, 0.001, 2000)\n",
    "        error_value[i] = Etest(input_test, in_output_test, model)\n",
    "        \n",
    "    return error_value"
   ]
  },
  {
   "cell_type": "code",
   "execution_count": 3,
   "metadata": {},
   "outputs": [],
   "source": [
    "def average_error_log(n):\n",
    "    e_value = np.zeros(10);\n",
    "    m = int(digits.data.shape[0]/n)\n",
    "    for l in range(n):\n",
    "        s = l*m\n",
    "        e_value = e_value + E_value_log(np.concatenate((digits.data[0:s],digits.data[s+m:]), axis = 0), np.concatenate((digits.target[0:s],digits.target[s+m:]),axis = 0), digits.data[s:s+m], digits.target[s:s+m])/n\n",
    "    return e_value"
   ]
  },
  {
   "cell_type": "code",
   "execution_count": null,
   "metadata": {},
   "outputs": [],
   "source": [
    "np.mean(average_error_log(5)), np.mean(average_error_log(10)), np.mean(average_error_log(20)), np.mean(average_error_log(1796))"
   ]
  }
 ],
 "metadata": {
  "kernelspec": {
   "display_name": "Python 3",
   "language": "python",
   "name": "python3"
  },
  "language_info": {
   "codemirror_mode": {
    "name": "ipython",
    "version": 3
   },
   "file_extension": ".py",
   "mimetype": "text/x-python",
   "name": "python",
   "nbconvert_exporter": "python",
   "pygments_lexer": "ipython3",
   "version": "3.7.3"
  }
 },
 "nbformat": 4,
 "nbformat_minor": 2
}
